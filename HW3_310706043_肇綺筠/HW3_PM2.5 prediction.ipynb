{
 "cells": [
  {
   "cell_type": "markdown",
   "id": "0764967a",
   "metadata": {},
   "source": [
    "### 1. 資料前處理\n",
    "\n",
    " a. 取出10.11.12月資料\n",
    "\n",
    " b. 缺失值以及無效值以前後一小時平均值取代 (如果前一小時仍有空值，再取更前一小時)\n",
    "\n",
    " c. NR表示無降雨，以0取代\n",
    "\n",
    " d. 將資料切割成訓練集(10.11月)以及測試集(12月)\n",
    "\n",
    " e. 製作時序資料: 將資料形式轉換為行(row)代表18種屬性，欄(column)代表逐時數據資料\n",
    "\n",
    "     **hint: 將訓練集每18行合併，轉換成維度為(18,61*24)的DataFrame(每個屬性都有61天*24小時共1464筆資料)\n",
    "     ** # 表示儀器檢核為無效值，* 表示程式檢核為無效值，x 表示人工檢核為無效值，A 係指因儀器疑似故障警報所產生的無效值，空白 表示缺值。\n",
    "\n"
   ]
  },
  {
   "cell_type": "code",
   "execution_count": 1,
   "id": "9d4123e3",
   "metadata": {},
   "outputs": [
    {
     "name": "stdout",
     "output_type": "stream",
     "text": [
      "                attributes     0     1     2     3     4     5     6     7  \\\n",
      "6013  AMB_TEMP              17.8  17.2  16.7  16.3  15.9  15.5  15.4  15.6   \n",
      "6014  CH4                   2.04  2.04  2.04  2.04  2.03  2.03  2.04  2.05   \n",
      "6015  CO                     0.3  0.29  0.28  0.27  0.26  0.27   0.3  0.37   \n",
      "6016  NMHC                  0.05  0.06  0.04  0.03  0.05  0.05  0.06  0.08   \n",
      "6017  NO                     0.8   0.4   0.4   0.3   0.3   0.3   0.6   1.8   \n",
      "...                    ...   ...   ...   ...   ...   ...   ...   ...   ...   \n",
      "6566  THC                   2.24  2.22  2.19  2.17  2.15   2.1   2.1  2.11   \n",
      "6567  WD_HR                   38    51    50    47    53    53    46    49   \n",
      "6568  WIND_DIREC              37    59    37    50    62    42    41    59   \n",
      "6569  WIND_SPEED             2.6   2.6   2.3   2.4   3.4   3.2   3.1     3   \n",
      "6570  WS_HR                  2.5     2     2     2   2.5   2.6   2.6   2.5   \n",
      "\n",
      "         8  ...    14    15    16    17    18    19    20    21    22    23  \n",
      "6013  16.5  ...  17.3  17.2  16.9  16.4  16.3  16.3  16.2  16.1  16.1  16.1  \n",
      "6014  2.04  ...  2.04  2.03  2.03  2.03  2.05  2.03  2.02  2.02  2.04  2.04  \n",
      "6015  0.36  ...  0.32  0.31  0.33  0.37  0.43  0.33   0.3   0.3  0.35  0.26  \n",
      "6016  0.08  ...  0.08  0.09   0.1  0.13  0.14   0.1   0.1   0.1  0.12   0.1  \n",
      "6017   2.6  ...     2     2   1.6     1   1.1   0.9   0.5   0.6   0.5   0.7  \n",
      "...    ...  ...   ...   ...   ...   ...   ...   ...   ...   ...   ...   ...  \n",
      "6566   2.1  ...  2.07  2.05  2.09   2.1  2.05   2.1  2.15  2.13  2.09  2.05  \n",
      "6567    49  ...    51    54    48    53    54    53    47    37    42    48  \n",
      "6568    61  ...    66    45    40    59    57    55    41    36    53    39  \n",
      "6569   3.1  ...   4.8   3.2   2.8   3.2   2.5   2.2   1.7   2.5   2.3   1.9  \n",
      "6570   2.7  ...   3.8   3.2   2.9   2.8   2.4     2   1.6     2   2.1   1.7  \n",
      "\n",
      "[558 rows x 25 columns]\n"
     ]
    }
   ],
   "source": [
    "import pandas as pd\n",
    "import numpy as np\n",
    "data = pd.read_csv('新竹_2021.csv')\n",
    "data.columns = ['A', 'date', 'attributes', '0', '1', '2', '3', '4', '5', '6', '7', '8', '9', '10',\n",
    "                '11', '12', '13', '14', '15', '16', '17', '18', '19', '20', '21', '22', '23']\n",
    "data.drop(columns = ['A'],inplace = True) #we don't need \"新竹\"as our data\n",
    "data.drop(columns = ['date'],inplace = True)#remove date column,useless(prediciton is hour based)\n",
    "data.drop(index = [0],inplace = True) #index 0 ->'------------' removed\n",
    "#print(data)\n",
    "#we should replace error messages\n",
    "#replace_ = ['#','*','x','A','NA'] #NA -> 空白\n",
    "#there's a long space after these text...\n",
    "replace_ = ['#                              ', 'x                              ', '*                              '\n",
    "                 , 'A                              ', 'NA                             ']\n",
    "data = data.apply(lambda x:x.replace(replace_,np.nan))\n",
    "#fetch the training(10~11),testing data\n",
    "#10-11:4914-6012\n",
    "#12:6012-\n",
    "#print(data.iloc[:,1:])\n",
    "train_d = data.iloc[4914:6012,:]\n",
    "test_d = data.iloc[6012:,:]\n",
    "print(test_d)"
   ]
  },
  {
   "cell_type": "code",
   "execution_count": 2,
   "id": "7761bbbe",
   "metadata": {},
   "outputs": [],
   "source": [
    "#print(train_d)"
   ]
  },
  {
   "cell_type": "code",
   "execution_count": 3,
   "id": "54d1bbbe",
   "metadata": {},
   "outputs": [
    {
     "name": "stdout",
     "output_type": "stream",
     "text": [
      "1098\n"
     ]
    }
   ],
   "source": [
    "print(len(train_d))"
   ]
  },
  {
   "cell_type": "code",
   "execution_count": 4,
   "id": "ec0ce415",
   "metadata": {},
   "outputs": [],
   "source": [
    "#process the data of train & test respectively\n",
    "def process(data):\n",
    "    final = []\n",
    "    for i in range(18): #traverse the 18 attributes of one day\n",
    "        j = i\n",
    "        alld = []\n",
    "        alld2 = []\n",
    "        while j < len(data):\n",
    "            oned = [] #attribute j in one day of a month, after we count 18, it changes to day2...\n",
    "            oned = data.iloc[j,1:].tolist() #j:attribute j,col0 is the attribute name,skip it,store the attributej data of one day 24 hrs\n",
    "            #avoid string type\n",
    "            for i in range(len(oned)):\n",
    "                if type(oned[i]) == str:\n",
    "                    oned[i] = float(oned[i].strip()) #strip:remove space or '\\n' at the end\n",
    "            alld.append(oned)\n",
    "            j+=18 #now we skip to the same attribute of\"day 2\"\n",
    "        #as alld records \"61\" lists containing 0-23 attribute data(size :61*24)\n",
    "        #we want it to become 1*1464 (one attribute per row)\n",
    "        for q in range(len(alld)):\n",
    "            for w in alld[q]:#traverse all elements\n",
    "                alld2.append(w)\n",
    "        final.append(alld2)\n",
    "    \n",
    "    return_data = pd.DataFrame(final)\n",
    "    front = return_data.copy()\n",
    "    back = return_data.copy()\n",
    "    #ffill-> replace empty data with foward data (axis = 0,vertical/ = 1,horizontal)\n",
    "    front = front.ffill(axis = 1) #hour based, so fetch the data of previous column(h)\n",
    "    back = front.bfill(axis = 1)\n",
    "    \n",
    "    front.fillna(0.0)\n",
    "    back.fillna(0.0)\n",
    "    \n",
    "    return_data = (front+back)/2\n",
    "    print(return_data.shape)\n",
    "    return return_data\n",
    "    \n",
    "                    \n",
    "            \n",
    "            "
   ]
  },
  {
   "cell_type": "code",
   "execution_count": 5,
   "id": "237d8c0c",
   "metadata": {},
   "outputs": [
    {
     "name": "stdout",
     "output_type": "stream",
     "text": [
      "(18, 1464)\n",
      "(18, 744)\n",
      "      0      1      2      3      4      5      6      7      8      9    ...  \\\n",
      "0   17.80  17.20  16.70  16.30  15.90  15.50  15.40  15.60  16.50  17.20  ...   \n",
      "1    2.04   2.04   2.04   2.04   2.03   2.03   2.04   2.05   2.04   2.04  ...   \n",
      "2    0.30   0.29   0.28   0.27   0.26   0.27   0.30   0.37   0.36   0.34  ...   \n",
      "3    0.05   0.06   0.04   0.03   0.05   0.05   0.06   0.08   0.08   0.09  ...   \n",
      "4    0.80   0.40   0.40   0.30   0.30   0.30   0.60   1.80   2.60   2.80  ...   \n",
      "5    6.20   6.60   6.00   5.60   5.70   6.60   9.60  14.80  13.60  11.70  ...   \n",
      "6    7.00   7.00   6.40   5.90   6.10   7.00  10.30  16.70  16.20  14.50  ...   \n",
      "7   33.20  31.20  30.80  32.80  33.00  30.50  26.70  22.80  26.90  29.10  ...   \n",
      "8   47.00  48.00  47.00  45.00  42.00  41.00  40.00  44.00  53.00  52.00  ...   \n",
      "9   22.00  26.00  24.00  23.00  17.00  22.00  23.00  21.00  21.00  22.00  ...   \n",
      "10   0.00   0.00   0.00   0.00   0.00   0.00   0.00   0.00   0.00   0.00  ...   \n",
      "11  49.00  48.00  47.00  46.00  44.00  47.00  47.00  46.00  44.00  42.00  ...   \n",
      "12   1.90   1.10   1.10   1.20   1.50   1.60   1.80   2.10   2.10   1.80  ...   \n",
      "13   2.09   2.10   2.08   2.07   2.08   2.08   2.10   2.13   2.12   2.13  ...   \n",
      "14  57.00  57.00  58.00  56.00  49.00  56.00  57.00  56.00  51.00  40.00  ...   \n",
      "15  52.00  58.00  57.00  51.00  40.00  59.00  57.00  57.00  47.00  31.00  ...   \n",
      "16   4.50   5.90   4.80   4.60   4.50   3.90   3.80   4.10   4.90   5.10  ...   \n",
      "17   4.10   4.30   4.10   4.20   3.80   3.70   3.40   3.50   3.60   4.20  ...   \n",
      "\n",
      "      734    735    736   737    738    739    740    741    742    743  \n",
      "0   18.10  17.50  16.80  16.3  16.10  15.80  15.60  15.70  15.90  16.10  \n",
      "1    1.99   1.98   1.99   2.0   1.98   2.01   2.04   2.03   2.01   2.00  \n",
      "2    0.29   0.26   0.27   0.3   0.27   0.29   0.33   0.32   0.28   0.25  \n",
      "3    0.08   0.07   0.10   0.1   0.07   0.09   0.11   0.10   0.08   0.05  \n",
      "4    1.90   1.60   1.20   0.8   0.80   0.70   0.80   0.70   0.50   0.40  \n",
      "5    9.80   9.90  11.70  13.7  12.40  11.60  13.60  13.60  11.80   9.20  \n",
      "6   11.80  11.60  13.00  14.6  13.30  12.30  14.40  14.40  12.30   9.70  \n",
      "7   38.30  37.00  35.10  32.6  33.60  32.10  29.60  30.30  31.90  33.60  \n",
      "8   31.00  24.00  24.00  26.0  19.00  19.00  18.00   8.00  10.00   7.00  \n",
      "9   12.00  10.00  13.00  13.0  14.00  13.00  10.00  11.00   9.00   7.00  \n",
      "10   0.00   0.00   0.00   0.0   0.00   0.00   0.00   0.00   0.00   0.00  \n",
      "11  58.00  60.00  63.00  65.0  67.00  71.00  74.00  78.00  79.00  78.00  \n",
      "12   1.50   1.20   1.10   1.1   1.30   1.30   1.10   1.40   1.60   1.80  \n",
      "13   2.07   2.05   2.09   2.1   2.05   2.10   2.15   2.13   2.09   2.05  \n",
      "14  51.00  54.00  48.00  53.0  54.00  53.00  47.00  37.00  42.00  48.00  \n",
      "15  66.00  45.00  40.00  59.0  57.00  55.00  41.00  36.00  53.00  39.00  \n",
      "16   4.80   3.20   2.80   3.2   2.50   2.20   1.70   2.50   2.30   1.90  \n",
      "17   3.80   3.20   2.90   2.8   2.40   2.00   1.60   2.00   2.10   1.70  \n",
      "\n",
      "[18 rows x 744 columns]\n"
     ]
    }
   ],
   "source": [
    "train_d = process(train_d)\n",
    "test_d = process(test_d)\n",
    "print(test_d)"
   ]
  },
  {
   "cell_type": "markdown",
   "id": "68d93e4c",
   "metadata": {},
   "source": [
    "### 2. 時間序列\n",
    "\n",
    "  a.預測目標\n",
    "\n",
    "     1. 將未來第一個小時當預測目標\n",
    "\n",
    "         取6小時為一單位切割，例如第一筆資料為第0~5小時的資料(X[0])，去預測第6小時(未來第一小時)的PM2.5值(Y[0])，下一筆資料為第1~6小時的資料(X[1])去預測第7 小時的PM2.5值(Y[1])  *hint: 切割後X的長度應為1464-6=1458\n",
    "\n",
    "     2. 將未來第六個小時當預測目標\n",
    "\n",
    "         取6小時為一單位切割，例如第一筆資料為第0~5小時的資料(X[0])，去預測第11小時(未來第六小時)的PM2.5值(Y[0])，下一筆資料為第1~6小時的資料(X[1])去預測第12 小時的PM2.5值(Y[1])  *hint: 切割後X的長度應為1464-11=1453\n",
    "\n",
    " b. X請分別取\n",
    "\n",
    "     1. 只有PM2.5 (e.g. X[0]會有6個特徵，即第0~5小時的PM2.5數值)\n",
    "\n",
    "     2. 所有18種屬性 (e.g. X[0]會有18*6個特徵，即第0~5小時的所有18種屬性數值)"
   ]
  },
  {
   "cell_type": "code",
   "execution_count": 6,
   "id": "d8f9580d",
   "metadata": {},
   "outputs": [],
   "source": [
    "\n",
    "#forcast using only one attribute(PM2.5)\n",
    "#PM2.5 is at index 9 (row 9 in our new data frame)\n",
    "\n",
    "def forecast_PM(d,hr):\n",
    "    dx = []\n",
    "    dy = []#target\n",
    "    if hr == 1:\n",
    "        for i in range(len(d.columns)-6): #remove the last 6 as there is no more data for last 6 to predict\n",
    "            tmp = d.iloc[9,i:i+6].tolist() #group 6 col data into one list\n",
    "            dx.append(tmp)\n",
    "            dy.append(d.iloc[9,i+6])#only one element\n",
    "    elif hr == 6:\n",
    "        for i in range(len(d.columns)-11): \n",
    "            tmp = d.iloc[9,i:i+6].tolist() #group 6 col data into one list\n",
    "            dx.append(tmp)\n",
    "            dy.append(d.iloc[9,i+11])#only one element,6+5=11\n",
    "    return dx,dy\n",
    "\n",
    "#consider all attributes \n",
    "            \n",
    "def forecast_all(d,hr):\n",
    "    dx = []\n",
    "    dy = []#target\n",
    "    if hr == 1:\n",
    "        for i in range(len(d.columns)-6):\n",
    "            tmpp = []\n",
    "            final = []\n",
    "            for j in range(len(d.index)):\n",
    "                tmp = d.iloc[j,i:i+6].tolist() #traverse each attribute\n",
    "                tmpp.append(tmp) #one attri with 6 element...=> 18 attr with 6 element(18x6)\n",
    "            #transfer to 1x(18x6)\n",
    "            for k in range(len(tmpp)):\n",
    "                for q in range(len(tmpp[k])):\n",
    "                    final.append(tmpp[k][q])\n",
    "            dx.append(final)\n",
    "            dy.append(d.iloc[9,i+6])#only one element\n",
    "    elif hr == 6:\n",
    "        for i in range(len(d.columns)-11):\n",
    "            tmpp = []\n",
    "            final = []\n",
    "            for j in range(len(d.index)):\n",
    "                tmp = d.iloc[j,i:i+6].tolist() #traverse each attribute\n",
    "                tmpp.append(tmp) #one attri with 6 element...=> 18 attr with 6 element(18x6)\n",
    "            #transfer to 1x(18x6)\n",
    "            for k in range(len(tmpp)):\n",
    "                for q in range(len(tmpp[k])):\n",
    "                    final.append(tmpp[k][q])\n",
    "            dx.append(final)\n",
    "            dy.append(d.iloc[9,i+11])#only one element\n",
    "    \n",
    "    dfx = pd.DataFrame(dx)\n",
    "    dfy = pd.DataFrame(dy)\n",
    "    return dfx,dfy\n"
   ]
  },
  {
   "cell_type": "markdown",
   "id": "7a67c10e",
   "metadata": {},
   "source": [
    "### 模型建模\n",
    "c. 使用兩種模型 Linear Regression 和 XGBoost 建模\n",
    "\n",
    "d. 用測試集資料計算MAE (會有8個結果， 2種X資料 * 2種Y資料 * 2種模型)\n",
    "\n",
    "-----------------------------------------------------------------"
   ]
  },
  {
   "attachments": {
    "image.png": {
     "image/png": "[encoded data removed]"
    }
   },
   "cell_type": "markdown",
   "id": "3c49db03",
   "metadata": {},
   "source": [
    "#### XGBoost:\n",
    "\n",
    "1. XGboost 保有 Gradient Boosting 的做法，每一棵樹是互相關聯的，目標是希望後面生成的樹能夠修正前面一棵樹犯錯的地方。\n",
    "2. 和隨機森林一樣在生成每一棵樹的時候隨機抽取特徵\n",
    "3. XGboost 在目標函數添加了標準化， L1/L2 Regularization 目的是讓損失函數更佳平滑，且抗雜訊干擾能力更大。\n",
    "\n",
    "#### 優點總結：\n",
    "\n",
    "* 利用了二階梯度來對節點進行劃分\n",
    "* 利用局部近似算法對分裂節點進行優化\n",
    "* 在損失函數中加入了 L1/L2 項，控制模型的複雜度\n",
    "* 提供 GPU 平行化運算\n",
    "\n",
    "reference:https://ithelp.ithome.com.tw/articles/10273094#:~:text=XGboost%20%E5%85%A8%E5%90%8D%E7%82%BAeXtreme,%E6%B7%BB%E5%8A%A0%E4%B8%80%E4%BA%9B%E6%96%B0%E7%9A%84%E6%8A%80%E5%B7%A7%E3%80%82\n",
    "\n",
    "![image.png](attachment:image.png)"
   ]
  },
  {
   "cell_type": "code",
   "execution_count": 7,
   "id": "57d3e5bb",
   "metadata": {},
   "outputs": [
    {
     "name": "stdout",
     "output_type": "stream",
     "text": [
      "Requirement already satisfied: xgboost in /Users/USER/opt/anaconda3/envs/tf/lib/python3.7/site-packages (1.6.2)\n",
      "Requirement already satisfied: numpy in /Users/USER/opt/anaconda3/envs/tf/lib/python3.7/site-packages (from xgboost) (1.21.5)\n",
      "Requirement already satisfied: scipy in /Users/USER/opt/anaconda3/envs/tf/lib/python3.7/site-packages (from xgboost) (1.7.3)\n",
      "Note: you may need to restart the kernel to use updated packages.\n"
     ]
    }
   ],
   "source": [
    "pip install xgboost"
   ]
  },
  {
   "cell_type": "code",
   "execution_count": 8,
   "id": "bf946a7a",
   "metadata": {},
   "outputs": [],
   "source": [
    "from sklearn.linear_model import LinearRegression\n",
    "from sklearn.metrics import mean_absolute_error\n",
    "import xgboost as xgb"
   ]
  },
  {
   "cell_type": "code",
   "execution_count": 9,
   "id": "adf5bca1",
   "metadata": {},
   "outputs": [],
   "source": [
    "def run_model(tr_x,tr_y,tst_x,tst_y):\n",
    "    LR = LinearRegression()\n",
    "    LR.fit(tr_x,tr_y)\n",
    "    MAEL = mean_absolute_error(LR.predict(tst_x),tst_y)\n",
    "    \n",
    "    XGB = xgb.XGBRegressor(n_estimators = 50)\n",
    "    XGB.fit(tr_x,tr_y)\n",
    "    MAEGB = mean_absolute_error(XGB.predict(tst_x),tst_y)\n",
    "    \n",
    "    return MAEL,MAEGB"
   ]
  },
  {
   "cell_type": "code",
   "execution_count": 10,
   "id": "f51b8153",
   "metadata": {},
   "outputs": [
    {
     "name": "stdout",
     "output_type": "stream",
     "text": [
      "Only PM2.5\n",
      "\n",
      "\n",
      "**PM2.5 MAE: 1hr prediction**\n",
      "MAE of Linear Regression:\n",
      "2.5890115545631684\n",
      "MAE of XG-Boost:\n",
      "1.19660947395205\n",
      "-------------------------\n",
      "**PM2.5 MAE: 6hr prediction**\n",
      "MAE of Linear Regression:\n",
      "3.8931600472455274\n",
      "MAE of XG-Boost:\n",
      "1.786152461439843\n"
     ]
    }
   ],
   "source": [
    "#only PM2.5\n",
    "#training(10-11)\n",
    "x1,y1 = forecast_PM(train_d,1)\n",
    "x6,y6 = forecast_PM(train_d,6)\n",
    "\n",
    "#testing data (12)\n",
    "x1t,y1t = forecast_PM(train_d,1)\n",
    "x6t,y6t = forecast_PM(train_d,6)\n",
    "\n",
    "print('Only PM2.5')\n",
    "print('\\n')\n",
    "MAE_L1,MAE_XGB1 = run_model(x1,y1,x1t,y1t)\n",
    "MAE_L6,MAE_XGB6 = run_model(x6,y6,x6t,y6t)\n",
    "\n",
    "print('**PM2.5 MAE: 1hr prediction**')\n",
    "#print('-------------------------')\n",
    "print('MAE of Linear Regression:')\n",
    "print(MAE_L1)\n",
    "#print('\\n')\n",
    "print('MAE of XG-Boost:')\n",
    "print(MAE_XGB1)\n",
    "#print('\\n')\n",
    "print('-------------------------')\n",
    "print('**PM2.5 MAE: 6hr prediction**')\n",
    "print('MAE of Linear Regression:')\n",
    "print(MAE_L6)\n",
    "#print('\\n')\n",
    "print('MAE of XG-Boost:')\n",
    "print(MAE_XGB6)"
   ]
  },
  {
   "cell_type": "code",
   "execution_count": null,
   "id": "79c8ebab",
   "metadata": {},
   "outputs": [],
   "source": [
    "\n"
   ]
  },
  {
   "cell_type": "code",
   "execution_count": 11,
   "id": "c3aef600",
   "metadata": {},
   "outputs": [
    {
     "name": "stdout",
     "output_type": "stream",
     "text": [
      "All attributes\n",
      "Only PM2.5\n",
      "\n",
      "\n",
      "**All attributes MAE: 1hr prediction**\n",
      "MAE of Linear Regression:\n",
      "2.393532105241653\n",
      "MAE of XG-Boost:\n",
      "0.28081295743651064\n",
      "-------------------------\n",
      "**All attributes MAE: 6hr prediction**\n",
      "MAE of Linear Regression:\n",
      "3.6319869812973633\n",
      "MAE of XG-Boost:\n",
      "0.4235681037162799\n"
     ]
    }
   ],
   "source": [
    "#all attributes\n",
    "#training(10-11)\n",
    "x1,y1 = forecast_all(train_d,1)\n",
    "x6,y6 = forecast_all(train_d,6)\n",
    "#transfer to dataframe\n",
    "\n",
    "#testing data (12)\n",
    "x1t,y1t = forecast_all(train_d,1)\n",
    "x6t,y6t = forecast_all(train_d,6)\n",
    "\n",
    "print('All attributes')\n",
    "\n",
    "MAE_L1,MAE_XGB1 = run_model(x1,y1,x1t,y1t)\n",
    "MAE_L6,MAE_XGB6 = run_model(x6,y6,x6t,y6t)\n",
    "\n",
    "print('Only PM2.5')\n",
    "print('\\n')\n",
    "MAE_L1,MAE_XGB1 = run_model(x1,y1,x1t,y1t)\n",
    "MAE_L6,MAE_XGB6 = run_model(x6,y6,x6t,y6t)\n",
    "\n",
    "print('**All attributes MAE: 1hr prediction**')\n",
    "#print('-------------------------')\n",
    "print('MAE of Linear Regression:')\n",
    "print(MAE_L1)\n",
    "#print('\\n')\n",
    "print('MAE of XG-Boost:')\n",
    "print(MAE_XGB1)\n",
    "#print('\\n')\n",
    "print('-------------------------')\n",
    "print('**All attributes MAE: 6hr prediction**')\n",
    "print('MAE of Linear Regression:')\n",
    "print(MAE_L6)\n",
    "#print('\\n')\n",
    "print('MAE of XG-Boost:')\n",
    "print(MAE_XGB6)"
   ]
  }
 ],
 "metadata": {
  "kernelspec": {
   "display_name": "Python 3 (ipykernel)",
   "language": "python",
   "name": "python3"
  },
  "language_info": {
   "codemirror_mode": {
    "name": "ipython",
    "version": 3
   },
   "file_extension": ".py",
   "mimetype": "text/x-python",
   "name": "python",
   "nbconvert_exporter": "python",
   "pygments_lexer": "ipython3",
   "version": "3.7.11"
  }
 },
 "nbformat": 4,
 "nbformat_minor": 5
}
